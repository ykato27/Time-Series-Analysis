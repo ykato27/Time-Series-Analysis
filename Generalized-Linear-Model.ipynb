{
  "nbformat": 4,
  "nbformat_minor": 0,
  "metadata": {
    "colab": {
      "name": "状態空間モデル.ipynb",
      "provenance": [],
      "authorship_tag": "ABX9TyNfjJkgCxlyBZYniFml40Fp"
    },
    "kernelspec": {
      "name": "python3",
      "display_name": "Python 3"
    }
  },
  "cells": [
    {
      "cell_type": "code",
      "metadata": {
        "colab": {
          "base_uri": "https://localhost:8080/",
          "height": 204
        },
        "id": "_i5EaZnpB_a4",
        "outputId": "bbb96464-0184-4056-ad8a-c0b5b821c490"
      },
      "source": [
        "# 必要なライブラリーのインポート\n",
        "import numpy as np\n",
        "import pandas as pd\n",
        "from numpy.random import *\n",
        "from scipy import stats\n",
        "\n",
        "import matplotlib.pyplot as plt\n",
        "import seaborn as sns\n",
        "%matplotlib inline\n",
        "\n",
        "# グラフを横長にする\n",
        "from matplotlib import rcParams\n",
        "rcParams['figure.figsize'] = 10, 6\n",
        "sns.set()\n",
        "\n",
        "# pystanの読み込み\n",
        "import pystan\n",
        "\n",
        "# データの読み込み\n",
        "# https://stat.ethz.ch/R-manual/R-devel/library/datasets/html/AirPassengers.html\n",
        "df = pd.read_csv('AirPassengers.csv')\n",
        "\n",
        "# float型に変換\n",
        "#df['#Passengers'] = df['#Passengers'].astype('float64')\n",
        "df = df.rename(columns={'#Passengers': 'Passengers'})\n",
        "\n",
        "# datetime型にしてインデックスにする\n",
        "#df.Month = pd.to_datetime(df.Month)\n",
        "#df = df.set_index(\"Month\")\n",
        "\n",
        "# データの中身を確認\n",
        "df.head()"
      ],
      "execution_count": null,
      "outputs": [
        {
          "output_type": "execute_result",
          "data": {
            "text/html": [
              "<div>\n",
              "<style scoped>\n",
              "    .dataframe tbody tr th:only-of-type {\n",
              "        vertical-align: middle;\n",
              "    }\n",
              "\n",
              "    .dataframe tbody tr th {\n",
              "        vertical-align: top;\n",
              "    }\n",
              "\n",
              "    .dataframe thead th {\n",
              "        text-align: right;\n",
              "    }\n",
              "</style>\n",
              "<table border=\"1\" class=\"dataframe\">\n",
              "  <thead>\n",
              "    <tr style=\"text-align: right;\">\n",
              "      <th></th>\n",
              "      <th>Month</th>\n",
              "      <th>Passengers</th>\n",
              "    </tr>\n",
              "  </thead>\n",
              "  <tbody>\n",
              "    <tr>\n",
              "      <th>0</th>\n",
              "      <td>1949-01</td>\n",
              "      <td>112</td>\n",
              "    </tr>\n",
              "    <tr>\n",
              "      <th>1</th>\n",
              "      <td>1949-02</td>\n",
              "      <td>118</td>\n",
              "    </tr>\n",
              "    <tr>\n",
              "      <th>2</th>\n",
              "      <td>1949-03</td>\n",
              "      <td>132</td>\n",
              "    </tr>\n",
              "    <tr>\n",
              "      <th>3</th>\n",
              "      <td>1949-04</td>\n",
              "      <td>129</td>\n",
              "    </tr>\n",
              "    <tr>\n",
              "      <th>4</th>\n",
              "      <td>1949-05</td>\n",
              "      <td>121</td>\n",
              "    </tr>\n",
              "  </tbody>\n",
              "</table>\n",
              "</div>"
            ],
            "text/plain": [
              "     Month  Passengers\n",
              "0  1949-01         112\n",
              "1  1949-02         118\n",
              "2  1949-03         132\n",
              "3  1949-04         129\n",
              "4  1949-05         121"
            ]
          },
          "metadata": {
            "tags": []
          },
          "execution_count": 39
        }
      ]
    },
    {
      "cell_type": "code",
      "metadata": {
        "id": "5v6ebA0JCUVR"
      },
      "source": [
        "local_level = '''\n",
        "data {\n",
        "    int<lower=0> T; // number of learning points\n",
        "    int<lower=0> M; // number of predict points\n",
        "    real Y[T]; // observations\n",
        "}\n",
        "\n",
        "parameters {\n",
        "    real mu[T]; // trend\n",
        "    real<lower=0> s_y; // sd of observations\n",
        "    real<lower=0> s_mu; // sd of trend\n",
        "}\n",
        "\n",
        "transformed parameters {\n",
        "    real y_hat[T]; // prediction\n",
        "\n",
        "    for(t in 1:T) {\n",
        "        y_hat[t] = mu[t];\n",
        "    }\n",
        "}\n",
        "\n",
        "model {\n",
        "    for(t in 1:T) {\n",
        "        Y[t] ~ normal(mu[t], s_y);\n",
        "    }\n",
        "    for(t in 2:T) {\n",
        "        mu[t] ~ normal(mu[t-1], s_mu);\n",
        "    }\n",
        "}\n",
        "\n",
        "generated quantities {\n",
        "    real mu_pred[T+M];\n",
        "    real y_pred[T+M];\n",
        "\n",
        "    for(t in 1:T) {\n",
        "        mu_pred[t] = mu[t];\n",
        "        y_pred[t] = y_hat[t];\n",
        "    }\n",
        "    for(t in (T+1):(T+M)) {\n",
        "        mu_pred[t] = normal_rng(mu_pred[t-1], s_mu);\n",
        "        y_pred[t] = mu_pred[t];\n",
        "    }\n",
        "}\n",
        "'''"
      ],
      "execution_count": null,
      "outputs": []
    },
    {
      "cell_type": "code",
      "metadata": {
        "colab": {
          "base_uri": "https://localhost:8080/"
        },
        "id": "3dloraHQDTjy",
        "outputId": "5ab6862d-da6a-4548-fa6d-522fb20d31df"
      },
      "source": [
        "stan_model = pystan.StanModel(model_code=local_level)"
      ],
      "execution_count": null,
      "outputs": [
        {
          "output_type": "stream",
          "text": [
            "INFO:pystan:COMPILING THE C++ CODE FOR MODEL anon_model_9bb0ebd023c1c9b55102b36db5240ae9 NOW.\n"
          ],
          "name": "stderr"
        }
      ]
    },
    {
      "cell_type": "code",
      "metadata": {
        "id": "kO_OwTskDZzx"
      },
      "source": [
        "y = df[\"Passengers\"]\n",
        "T = 130 #学習期間\n",
        "M = 14 #予測期間\n",
        "\n",
        "y_train = y[:-M]\n",
        "y_test = y[-M:]"
      ],
      "execution_count": null,
      "outputs": []
    },
    {
      "cell_type": "code",
      "metadata": {
        "id": "MEbWs13eEeT7"
      },
      "source": [
        "y_train = y[:-M]\n",
        "y_test = y[-M:]"
      ],
      "execution_count": null,
      "outputs": []
    },
    {
      "cell_type": "code",
      "metadata": {
        "id": "keLDZ27IEt8C"
      },
      "source": [
        "predict_dat = {'T': T, 'M' : M, 'Y': y_train}"
      ],
      "execution_count": null,
      "outputs": []
    },
    {
      "cell_type": "code",
      "metadata": {
        "colab": {
          "base_uri": "https://localhost:8080/"
        },
        "id": "fDqz6h_mFNhY",
        "outputId": "6082bdda-85c5-4bcc-e685-987776b82100"
      },
      "source": [
        "fit_local_level = stan_model.sampling(data=predict_dat, iter=3000, chains=1, seed=10, n_jobs=1)"
      ],
      "execution_count": null,
      "outputs": [
        {
          "output_type": "stream",
          "text": [
            "WARNING:pystan:Chain 1: E-BFMI = 0.0322\n",
            "WARNING:pystan:E-BFMI below 0.2 indicates you may need to reparameterize your model\n"
          ],
          "name": "stderr"
        }
      ]
    },
    {
      "cell_type": "code",
      "metadata": {
        "colab": {
          "base_uri": "https://localhost:8080/"
        },
        "id": "orSubpamFlN_",
        "outputId": "16ba6ebf-2444-4849-dd2e-03cec9c78c91"
      },
      "source": [
        "fit_local_level"
      ],
      "execution_count": null,
      "outputs": [
        {
          "output_type": "stream",
          "text": [
            "WARNING:pystan:Truncated summary with the 'fit.__repr__' method. For the full summary use 'print(fit)'\n"
          ],
          "name": "stderr"
        },
        {
          "output_type": "execute_result",
          "data": {
            "text/plain": [
              "\n",
              "Warning: Shown data is truncated to 100 parameters\n",
              "For the full summary use 'print(fit)'\n",
              "\n",
              "Inference for Stan model: anon_model_9bb0ebd023c1c9b55102b36db5240ae9.\n",
              "1 chains, each with iter=3000; warmup=1500; thin=1; \n",
              "post-warmup draws per chain=1500, total post-warmup draws=1500.\n",
              "\n",
              "         mean se_mean     sd   2.5%    25%    50%    75%  97.5%  n_eff   Rhat\n",
              "mu[1]  112.06    0.09   4.14 102.85 109.76 112.08 114.26 120.66   1971    1.0\n",
              "mu[2]  118.13    0.07   4.06 110.05 115.84 118.05 120.43  126.9   3390    1.0\n",
              "mu[3]  131.68    0.08   4.14 122.64 129.58 131.76 133.99 140.19   2744    1.0\n",
              "mu[4]  128.86    0.09    4.4 119.92 126.75 128.96  131.1 138.03   2243    1.0\n",
              "mu[5]  121.43    0.08   4.36 113.03  119.1 121.21 123.59  131.3   2967    1.0\n",
              "mu[6]  135.11    0.08   4.28  126.2 132.88 135.11 137.32 144.46   2759    1.0\n",
              "mu[7]  147.91    0.09   4.15 138.37 145.71 147.99 150.23 156.43   2172    1.0\n",
              "mu[8]  147.78    0.09    4.3 137.78 145.68 147.84 150.11 156.43   2481    1.0\n",
              "mu[9]  135.81    0.08   4.55 125.87 133.42 135.92 138.39 144.97   3262    1.0\n",
              "mu[10] 119.13    0.08   4.41 110.14 116.82 119.18  121.4 128.29   3217    1.0\n",
              "mu[11] 104.62     0.1   4.24   97.1  102.2 104.34 106.69 113.99   1770    1.0\n",
              "mu[12]  117.6    0.09   4.35 108.24 115.45 117.78 119.97  125.9   2582    1.0\n",
              "mu[13] 115.18    0.08   4.35 106.02 112.76 115.04 117.54 124.43   3191    1.0\n",
              "mu[14] 126.08    0.08   4.45 116.66 123.84 125.93 128.28 135.47   2996    1.0\n",
              "mu[15] 140.58    0.11   4.44 130.79 138.47 140.76 142.85 149.49   1492    1.0\n",
              "mu[16] 134.86    0.08   4.25 125.89  132.7 134.96  137.2 143.38   2665    1.0\n",
              "mu[17] 125.57    0.08    4.3 116.88  123.1 125.38 127.89 135.29   2610    1.0\n",
              "mu[18] 149.07     0.1   4.51 139.86 146.88 148.98 151.22 159.06   2050    1.0\n",
              "mu[19] 169.64    0.09   4.38 159.93 167.48 169.65 171.79 179.33   2264    1.0\n",
              "mu[20] 169.84    0.11   4.63 160.05 167.68 170.01 172.15 178.93   1848    1.0\n",
              "mu[21] 157.87    0.07   4.44 149.21 155.75 157.87 159.95 166.77   4655    1.0\n",
              "mu[22] 133.14    0.09    4.0 124.87 130.96 133.09 135.21 141.95   1965    1.0\n",
              "mu[23] 114.82    0.08   4.67 105.98  112.3 114.56 117.04 125.02   3061    1.0\n",
              "mu[24]  139.7    0.08    4.1 130.96 137.52 139.73 142.03 147.77   2458    1.0\n",
              "mu[25] 145.07    0.08   4.18 136.45 142.91  144.9 147.21 154.41   3076    1.0\n",
              "mu[26] 150.62     0.1    4.1 142.73 148.28  150.4 152.66 159.58   1839    1.0\n",
              "mu[27] 177.22     0.1    4.3 167.12 175.15 177.49 179.39 185.87   1815    1.0\n",
              "mu[28] 163.37    0.08   4.41 154.88 161.07 163.22 165.58 172.71   3043    1.0\n",
              "mu[29] 171.97     0.1    4.3 162.92 169.81 171.91 174.23 181.15   1847    1.0\n",
              "mu[30] 178.18    0.09   4.12 169.61 176.05 178.14 180.08 187.63   1947    1.0\n",
              "mu[31] 198.58    0.08   4.33 188.97  196.4 198.81 200.87 207.39   2610    1.0\n",
              "mu[32] 198.67    0.09   4.27 189.57 196.61 198.73 200.82 207.83   2173    1.0\n",
              "mu[33] 183.73     0.1   4.44 174.01 181.66 183.81 185.94 193.26   1972    1.0\n",
              "mu[34] 162.15    0.07   4.36 152.97 159.98 162.17 164.39 171.23   3985    1.0\n",
              "mu[35] 146.78     0.1   4.36 137.91 144.36 146.48 148.89 156.63   2075    1.0\n",
              "mu[36] 165.71    0.08   4.61 155.69 163.29 165.88 168.17 175.44   3330    1.0\n",
              "mu[37] 170.88    0.08   4.44 161.72 168.42 170.94 173.41  179.7   2750    1.0\n",
              "mu[38] 180.11    0.08   4.31 171.42 177.88  180.1 182.37 188.89   2978    1.0\n",
              "mu[39] 192.51    0.09   4.26 182.93 190.34 192.65 194.84 201.38   2094    1.0\n",
              "mu[40] 181.12    0.08   3.97 173.07 178.95 181.06 183.16 189.88   2758    1.0\n",
              "mu[41]  183.5    0.09   4.32 175.07 181.05 183.22 185.78 193.12   2090    1.0\n",
              "mu[42] 217.67    0.08   4.11 208.86 215.54 217.82 219.92  226.1   2865    1.0\n",
              "mu[43] 229.76    0.08   4.08 220.54  227.7 229.85 232.03 238.02   2569    1.0\n",
              "mu[44] 241.15    0.11   4.52 231.18 238.97 241.45 243.65 250.02   1567    1.0\n",
              "mu[45] 209.37     0.1   4.53 200.37  207.1 209.22 211.44  219.6   2002    1.0\n",
              "mu[46] 190.89    0.09   4.22 182.03 188.68  190.9 193.11 200.32   2410    1.0\n",
              "mu[47] 172.78    0.09   4.24 164.85 170.49 172.47 174.85 182.66   1994    1.0\n",
              "mu[48] 193.56    0.09    4.5 182.97 191.47 193.79 195.94 202.58   2673    1.0\n",
              "mu[49] 196.01    0.09   4.17 187.22 193.83 195.98 198.22 204.93   2021    1.0\n",
              "mu[50] 196.81    0.09   4.42 187.33 194.42 196.63 198.93 207.13   2340    1.0\n",
              "mu[51] 235.07    0.09   4.23 225.65 232.73 235.41 237.53 243.23   2024    1.0\n",
              "mu[52] 234.82    0.08   4.43 225.43 232.66 234.91  237.2 244.37   2865    1.0\n",
              "mu[53] 229.29    0.08   4.08 221.28 227.03 229.21 231.43 237.92   2724    1.0\n",
              "mu[54] 243.14    0.08   4.21 233.75  240.8 243.13 245.31 252.79   3009    1.0\n",
              "mu[55] 263.64     0.1   4.31  253.6 261.57  263.8 265.76 271.82   1772    1.0\n",
              "mu[56] 271.11     0.1   4.52 260.19 268.82 271.48 273.65 279.53   1881    1.0\n",
              "mu[57] 237.17     0.1   4.32 227.71 234.84 236.95 239.44 246.43   1766    1.0\n",
              "mu[58] 210.94    0.08    4.6 202.02 208.57 211.02 213.27 220.17   3078    1.0\n",
              "mu[59] 181.09    0.15    4.5 172.37 178.64 180.72 183.18 191.13    934    1.0\n",
              "mu[60] 200.83    0.07   4.36 191.46  198.6  200.9 203.16 209.81   3722    1.0\n",
              "mu[61] 203.75    0.08   4.22 194.54 201.65 203.86 205.89 212.47   2921    1.0\n",
              "mu[62] 189.09    0.13   4.29 180.54 186.76 188.82 191.33 198.59   1034    1.0\n",
              "mu[63] 234.04    0.12   4.31 224.18  231.9 234.38 236.64 242.65   1362    1.0\n",
              "mu[64] 227.27    0.08   4.26  218.5 225.03 227.19 229.46 236.76   2573    1.0\n",
              "mu[65] 234.56    0.08   4.24 226.12 232.32 234.43 236.63 244.06   2860    1.0\n",
              "mu[66] 264.22     0.1   4.49 254.45 261.85 264.09  266.4 273.65   2227    1.0\n",
              "mu[67] 301.06    0.13   4.57 291.11 298.79 301.42 303.51 309.65   1177    1.0\n",
              "mu[68] 292.42    0.09   4.14 283.64  290.3 292.56  294.8 300.55   1996    1.0\n",
              "mu[69] 258.91    0.09   4.35 249.42 256.68 258.98 261.32 267.34   2599    1.0\n",
              "mu[70] 229.06    0.08   4.73 218.79 226.73 229.07  231.3 239.65   3931    1.0\n",
              "mu[71] 203.98    0.14   4.53  195.3  201.5 203.59 206.22 213.74   1107    1.0\n",
              "mu[72] 228.76    0.08   4.48 219.08 226.35 228.86 231.19 238.45   3158    1.0\n",
              "mu[73] 241.54    0.08   4.23 232.47  239.2 241.64 244.06 250.01   2729    1.0\n",
              "mu[74] 233.63    0.09   4.28 225.18 231.18 233.35 235.98 243.29   2030    1.0\n",
              "mu[75] 266.45    0.09   4.21  256.1 264.39 266.69 268.81 274.44   2037    1.0\n",
              "mu[76] 268.92    0.08   4.18 260.09 266.69 268.89 271.09 278.19   2671    1.0\n",
              "mu[77] 270.87     0.1   4.24  263.0  268.5 270.59  273.0 279.94   1708    1.0\n",
              "mu[78] 315.06    0.08   4.28 305.96 312.84 315.02 317.31 324.27   2563    1.0\n",
              "mu[79] 362.76    0.17   4.61 352.35 360.49 363.23 365.38 371.38    699    1.0\n",
              "mu[80]  346.6    0.09   4.01 338.19 344.53 346.63 348.84 354.85   2116    1.0\n",
              "mu[81] 311.88    0.09   4.17 302.56 309.71 312.01 314.05 320.26   2049    1.0\n",
              "mu[82] 274.19    0.08   4.02 265.97 272.07 274.08  276.3 282.37   2810    1.0\n",
              "mu[83] 238.69    0.28   4.87 230.66 236.03 238.03 240.87 249.88    308    1.0\n",
              "mu[84] 277.34     0.1   4.61 266.71 275.26 277.66 279.77 286.33   2164    1.0\n",
              "mu[85] 283.71    0.09   4.47 274.17 281.43 283.87 286.02 292.88   2605    1.0\n",
              "mu[86] 277.95    0.15   4.32 270.05 275.58 277.59  280.0 288.13    818    1.0\n",
              "mu[87] 316.24     0.1   4.45  306.1 314.19 316.52 318.47 325.25   1960    1.0\n",
              "mu[88] 313.25    0.08   4.08 304.64 311.08 313.18 315.28 322.39   2622    1.0\n",
              "mu[89] 318.93    0.11   4.46 309.93 316.54  318.6 321.15 328.49   1793    1.0\n",
              "mu[90] 373.82    0.08   4.69 364.12 371.57  373.8 376.09  383.8   3162    1.0\n",
              "mu[91] 412.06    0.13   4.29 402.55 409.81 412.46 414.55 420.71   1138    1.0\n",
              "mu[92] 404.11     0.1    4.3  394.4 402.02 404.49 406.43 412.56   1818    1.0\n",
              "mu[93] 355.21    0.09   4.43 345.99 352.99 355.15 357.45 364.03   2592    1.0\n",
              "mu[94] 306.24    0.08   4.41 297.19 303.85 306.18 308.59 315.33   2943    1.0\n",
              "mu[95] 272.48    0.23   4.43  264.6 269.85  271.9  274.6 282.43    365    1.0\n",
              "mu[96] 305.51    0.09   4.24 296.47 303.26 305.57 307.85 313.81   2481    1.0\n",
              "mu[97]  314.7    0.09    4.5 304.71 312.46 314.85 317.01 324.43   2780    1.0\n",
              "mu[98] 302.24    0.13   4.45 293.98 299.79 301.87 304.46  311.6   1102    1.0\n",
              "mu[99] 354.74    0.17   4.48 344.37 352.76 355.26 357.27 362.79    657    1.0\n",
              "lp__   -731.1   17.93  65.93 -838.4 -781.3 -740.1 -688.0 -600.3     14   1.04\n",
              "\n",
              "Samples were drawn using NUTS at Sat Dec 19 03:56:24 2020.\n",
              "For each parameter, n_eff is a crude measure of effective sample size,\n",
              "and Rhat is the potential scale reduction factor on split chains (at \n",
              "convergence, Rhat=1)."
            ]
          },
          "metadata": {
            "tags": []
          },
          "execution_count": 63
        }
      ]
    },
    {
      "cell_type": "code",
      "metadata": {
        "id": "TIg-GasNJHtc"
      },
      "source": [
        "# サンプリング結果の抽出\n",
        "ms_local_level = fit_local_level.extract()\n",
        "y_pred = ms_local_level['y_pred'].mean(axis=0)"
      ],
      "execution_count": null,
      "outputs": []
    },
    {
      "cell_type": "code",
      "metadata": {
        "id": "ooy5KtjuJezn"
      },
      "source": [
        "quantile = [5, 95]\n",
        "per_5_95 = np.percentile(ms_local_level['y_pred'], q=quantile, axis=0).T\n",
        "colname = ['p5', 'p95']\n",
        "df_pred = pd.DataFrame(per_5_95, columns=colname)"
      ],
      "execution_count": null,
      "outputs": []
    },
    {
      "cell_type": "code",
      "metadata": {
        "colab": {
          "base_uri": "https://localhost:8080/",
          "height": 419
        },
        "id": "PRZ54VJeJki7",
        "outputId": "0f0b8bb1-dccc-4004-eb12-6e126606df38"
      },
      "source": [
        "df_pred"
      ],
      "execution_count": null,
      "outputs": [
        {
          "output_type": "execute_result",
          "data": {
            "text/html": [
              "<div>\n",
              "<style scoped>\n",
              "    .dataframe tbody tr th:only-of-type {\n",
              "        vertical-align: middle;\n",
              "    }\n",
              "\n",
              "    .dataframe tbody tr th {\n",
              "        vertical-align: top;\n",
              "    }\n",
              "\n",
              "    .dataframe thead th {\n",
              "        text-align: right;\n",
              "    }\n",
              "</style>\n",
              "<table border=\"1\" class=\"dataframe\">\n",
              "  <thead>\n",
              "    <tr style=\"text-align: right;\">\n",
              "      <th></th>\n",
              "      <th>p5</th>\n",
              "      <th>p95</th>\n",
              "    </tr>\n",
              "  </thead>\n",
              "  <tbody>\n",
              "    <tr>\n",
              "      <th>0</th>\n",
              "      <td>105.748057</td>\n",
              "      <td>118.926102</td>\n",
              "    </tr>\n",
              "    <tr>\n",
              "      <th>1</th>\n",
              "      <td>111.416992</td>\n",
              "      <td>124.701562</td>\n",
              "    </tr>\n",
              "    <tr>\n",
              "      <th>2</th>\n",
              "      <td>124.497620</td>\n",
              "      <td>137.997765</td>\n",
              "    </tr>\n",
              "    <tr>\n",
              "      <th>3</th>\n",
              "      <td>121.528787</td>\n",
              "      <td>136.170025</td>\n",
              "    </tr>\n",
              "    <tr>\n",
              "      <th>4</th>\n",
              "      <td>114.541684</td>\n",
              "      <td>129.109279</td>\n",
              "    </tr>\n",
              "    <tr>\n",
              "      <th>...</th>\n",
              "      <td>...</td>\n",
              "      <td>...</td>\n",
              "    </tr>\n",
              "    <tr>\n",
              "      <th>139</th>\n",
              "      <td>244.615422</td>\n",
              "      <td>563.949389</td>\n",
              "    </tr>\n",
              "    <tr>\n",
              "      <th>140</th>\n",
              "      <td>235.327713</td>\n",
              "      <td>563.772650</td>\n",
              "    </tr>\n",
              "    <tr>\n",
              "      <th>141</th>\n",
              "      <td>232.437850</td>\n",
              "      <td>570.964966</td>\n",
              "    </tr>\n",
              "    <tr>\n",
              "      <th>142</th>\n",
              "      <td>225.080298</td>\n",
              "      <td>581.487162</td>\n",
              "    </tr>\n",
              "    <tr>\n",
              "      <th>143</th>\n",
              "      <td>215.807266</td>\n",
              "      <td>591.085593</td>\n",
              "    </tr>\n",
              "  </tbody>\n",
              "</table>\n",
              "<p>144 rows × 2 columns</p>\n",
              "</div>"
            ],
            "text/plain": [
              "             p5         p95\n",
              "0    105.748057  118.926102\n",
              "1    111.416992  124.701562\n",
              "2    124.497620  137.997765\n",
              "3    121.528787  136.170025\n",
              "4    114.541684  129.109279\n",
              "..          ...         ...\n",
              "139  244.615422  563.949389\n",
              "140  235.327713  563.772650\n",
              "141  232.437850  570.964966\n",
              "142  225.080298  581.487162\n",
              "143  215.807266  591.085593\n",
              "\n",
              "[144 rows x 2 columns]"
            ]
          },
          "metadata": {
            "tags": []
          },
          "execution_count": 50
        }
      ]
    },
    {
      "cell_type": "code",
      "metadata": {
        "id": "VuOf9vT3JmDJ"
      },
      "source": [
        "# 予測値を追加\n",
        "df_pred['y_pred'] = y_pred"
      ],
      "execution_count": null,
      "outputs": []
    },
    {
      "cell_type": "code",
      "metadata": {
        "id": "xB93QME8Jn5q"
      },
      "source": [
        "mu_hat = ms_local_level['mu'].mean(axis=0)"
      ],
      "execution_count": null,
      "outputs": []
    },
    {
      "cell_type": "code",
      "metadata": {
        "id": "lkNcT7-yJpeb"
      },
      "source": [
        "# 状態の推定値を追加\n",
        "df_pred['mu_hat'] = np.nan\n",
        "df_pred.loc[0:129,'mu_hat'] = mu_hat"
      ],
      "execution_count": null,
      "outputs": []
    },
    {
      "cell_type": "code",
      "metadata": {
        "colab": {
          "base_uri": "https://localhost:8080/",
          "height": 377
        },
        "id": "fx1v5t8UJqhA",
        "outputId": "e372d5fb-b1ce-4d15-e011-3b74062fd50c"
      },
      "source": [
        "df.plot(y=\"Passengers\", legend=False) # 目的変数\n",
        "plt.plot(df_pred[['p5','p95']][-14:], linestyle=\"dashed\", color='purple') # 予測区間\n",
        "plt.plot(df_pred[['y_pred']][-14:], color='red') # 予測値\n",
        "plt.plot(mu_hat, color='green') # 状態\n",
        "plt.show()"
      ],
      "execution_count": null,
      "outputs": [
        {
          "output_type": "display_data",
          "data": {
            "image/png": "[encoded data removed]",
            "text/plain": [
              "<Figure size 720x432 with 1 Axes>"
            ]
          },
          "metadata": {
            "tags": []
          }
        }
      ]
    },
    {
      "cell_type": "code",
      "metadata": {
        "id": "vwHo5ZicJ6PQ"
      },
      "source": [
        ""
      ],
      "execution_count": null,
      "outputs": []
    }
  ]
}