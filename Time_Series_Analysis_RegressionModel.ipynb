{
  "nbformat": 4,
  "nbformat_minor": 0,
  "metadata": {
    "colab": {
      "name": "Time_Series_Analysis_RegressionModel.ipynb",
      "provenance": [],
      "authorship_tag": "ABX9TyN6ihKwMR45sj4/k6F7rfgu",
      "include_colab_link": true
    },
    "kernelspec": {
      "name": "python3",
      "display_name": "Python 3"
    }
  },
  "cells": [
    {
      "cell_type": "markdown",
      "metadata": {
        "id": "view-in-github",
        "colab_type": "text"
      },
      "source": [
        "<a href=\"https://colab.research.google.com/github/ykato27/Time-Series-Analysis/blob/main/Time_Series_Analysis_RegressionModel.ipynb\" target=\"_parent\"><img src=\"https://colab.research.google.com/assets/colab-badge.svg\" alt=\"Open In Colab\"/></a>"
      ]
    },
    {
      "cell_type": "markdown",
      "metadata": {
        "id": "jWfuXjfOaxwL"
      },
      "source": [
        "##時系列分析における回帰モデルの予測"
      ]
    },
    {
      "cell_type": "code",
      "metadata": {
        "colab": {
          "base_uri": "https://localhost:8080/"
        },
        "id": "wh42A8bzaL8t",
        "outputId": "1d159f20-a6b1-4d6b-8b6f-5af6b648f2a0"
      },
      "source": [
        "# 必要なライブラリーのインポート\n",
        "import pandas as pd\n",
        "import numpy as np\n",
        "from sklearn.preprocessing import StandardScaler\n",
        "from sklearn.model_selection import train_test_split\n",
        "from matplotlib import pylab as plt\n",
        "%matplotlib inline\n",
        "\n",
        "# 統計モデル\n",
        "import statsmodels.api as sm\n",
        "\n",
        "# GBDT\n",
        "from sklearn.ensemble import GradientBoostingRegressor\n",
        "\n",
        "import lightgbm as lgb\n",
        "\n",
        "# グラフを横長にする\n",
        "from matplotlib.pylab import rcParams\n",
        "rcParams['figure.figsize'] = 15, 6"
      ],
      "execution_count": 1,
      "outputs": [
        {
          "output_type": "stream",
          "text": [
            "/usr/local/lib/python3.6/dist-packages/statsmodels/tools/_testing.py:19: FutureWarning: pandas.util.testing is deprecated. Use the functions in the public API at pandas.testing instead.\n",
            "  import pandas.util.testing as tm\n"
          ],
          "name": "stderr"
        }
      ]
    },
    {
      "cell_type": "code",
      "metadata": {
        "colab": {
          "base_uri": "https://localhost:8080/",
          "height": 235
        },
        "id": "aDDeUHWBbBNz",
        "outputId": "ff409815-17da-4060-d45e-7722253d6181"
      },
      "source": [
        "# https://stat.ethz.ch/R-manual/R-devel/library/datasets/html/AirPassengers.html\n",
        "df = pd.read_csv('AirPassengers.csv')\n",
        "\n",
        "# float型に変換\n",
        "df['#Passengers'] = df['#Passengers'].astype('float64')\n",
        "df = df.rename(columns={'#Passengers': 'Passengers'})\n",
        "\n",
        "# datetime型にしてインデックスにする\n",
        "df.Month = pd.to_datetime(df.Month)\n",
        "df = df.set_index(\"Month\")\n",
        "\n",
        "# データの中身を確認\n",
        "df.head()"
      ],
      "execution_count": 2,
      "outputs": [
        {
          "output_type": "execute_result",
          "data": {
            "text/html": [
              "<div>\n",
              "<style scoped>\n",
              "    .dataframe tbody tr th:only-of-type {\n",
              "        vertical-align: middle;\n",
              "    }\n",
              "\n",
              "    .dataframe tbody tr th {\n",
              "        vertical-align: top;\n",
              "    }\n",
              "\n",
              "    .dataframe thead th {\n",
              "        text-align: right;\n",
              "    }\n",
              "</style>\n",
              "<table border=\"1\" class=\"dataframe\">\n",
              "  <thead>\n",
              "    <tr style=\"text-align: right;\">\n",
              "      <th></th>\n",
              "      <th>Passengers</th>\n",
              "    </tr>\n",
              "    <tr>\n",
              "      <th>Month</th>\n",
              "      <th></th>\n",
              "    </tr>\n",
              "  </thead>\n",
              "  <tbody>\n",
              "    <tr>\n",
              "      <th>1949-01-01</th>\n",
              "      <td>112.0</td>\n",
              "    </tr>\n",
              "    <tr>\n",
              "      <th>1949-02-01</th>\n",
              "      <td>118.0</td>\n",
              "    </tr>\n",
              "    <tr>\n",
              "      <th>1949-03-01</th>\n",
              "      <td>132.0</td>\n",
              "    </tr>\n",
              "    <tr>\n",
              "      <th>1949-04-01</th>\n",
              "      <td>129.0</td>\n",
              "    </tr>\n",
              "    <tr>\n",
              "      <th>1949-05-01</th>\n",
              "      <td>121.0</td>\n",
              "    </tr>\n",
              "  </tbody>\n",
              "</table>\n",
              "</div>"
            ],
            "text/plain": [
              "            Passengers\n",
              "Month                 \n",
              "1949-01-01       112.0\n",
              "1949-02-01       118.0\n",
              "1949-03-01       132.0\n",
              "1949-04-01       129.0\n",
              "1949-05-01       121.0"
            ]
          },
          "metadata": {
            "tags": []
          },
          "execution_count": 2
        }
      ]
    },
    {
      "cell_type": "markdown",
      "metadata": {
        "id": "Uy416mAybM7Z"
      },
      "source": [
        "## コレログラム"
      ]
    },
    {
      "cell_type": "code",
      "metadata": {
        "colab": {
          "base_uri": "https://localhost:8080/",
          "height": 298
        },
        "id": "_gNv89TEbE7o",
        "outputId": "59c938b8-311b-467e-af71-ba7240e43c71"
      },
      "source": [
        "#  自己相関のグラフ\n",
        "fig = plt.figure(figsize=(12,8))\n",
        "fig = sm.graphics.tsa.plot_acf(df[\"Passengers\"], lags=30)"
      ],
      "execution_count": 3,
      "outputs": [
        {
          "output_type": "display_data",
          "data": {
            "text/plain": [
              "<Figure size 864x576 with 0 Axes>"
            ]
          },
          "metadata": {
            "tags": []
          }
        },
        {
          "output_type": "display_data",
          "data": {
            "image/png": "[encoded data removed]",
            "text/plain": [
              "<Figure size 432x288 with 1 Axes>"
            ]
          },
          "metadata": {
            "tags": [],
            "needs_background": "light"
          }
        }
      ]
    },
    {
      "cell_type": "code",
      "metadata": {
        "colab": {
          "base_uri": "https://localhost:8080/",
          "height": 298
        },
        "id": "zLSBF0gNbU_z",
        "outputId": "aaa47ff5-3985-4df0-8df6-09cdd6d7c6c8"
      },
      "source": [
        "# 偏自己相関を可視化する\n",
        "fig = plt.figure(figsize=(12,8))\n",
        "fig = sm.graphics.tsa.plot_pacf(df[\"Passengers\"], lags=30)"
      ],
      "execution_count": 4,
      "outputs": [
        {
          "output_type": "display_data",
          "data": {
            "text/plain": [
              "<Figure size 864x576 with 0 Axes>"
            ]
          },
          "metadata": {
            "tags": []
          }
        },
        {
          "output_type": "display_data",
          "data": {
            "image/png": "[encoded data removed]",
            "text/plain": [
              "<Figure size 432x288 with 1 Axes>"
            ]
          },
          "metadata": {
            "tags": [],
            "needs_background": "light"
          }
        }
      ]
    },
    {
      "cell_type": "markdown",
      "metadata": {
        "id": "P35L0X0lbduR"
      },
      "source": [
        "## 過去12ヶ月の履歴を作成"
      ]
    },
    {
      "cell_type": "code",
      "metadata": {
        "colab": {
          "base_uri": "https://localhost:8080/",
          "height": 848
        },
        "id": "tUXGeegPbcVj",
        "outputId": "89fec84b-4e3b-4556-d634-34ac4c96f349"
      },
      "source": [
        "for i in range(1, 13):\n",
        "    df['shift%s'%i] = df['Passengers'].shift(i)\n",
        "\n",
        "pd.concat([df.head(13), df.tail(3)], axis=0, sort=False)"
      ],
      "execution_count": 5,
      "outputs": [
        {
          "output_type": "execute_result",
          "data": {
            "text/html": [
              "<div>\n",
              "<style scoped>\n",
              "    .dataframe tbody tr th:only-of-type {\n",
              "        vertical-align: middle;\n",
              "    }\n",
              "\n",
              "    .dataframe tbody tr th {\n",
              "        vertical-align: top;\n",
              "    }\n",
              "\n",
              "    .dataframe thead th {\n",
              "        text-align: right;\n",
              "    }\n",
              "</style>\n",
              "<table border=\"1\" class=\"dataframe\">\n",
              "  <thead>\n",
              "    <tr style=\"text-align: right;\">\n",
              "      <th></th>\n",
              "      <th>Passengers</th>\n",
              "      <th>shift1</th>\n",
              "      <th>shift2</th>\n",
              "      <th>shift3</th>\n",
              "      <th>shift4</th>\n",
              "      <th>shift5</th>\n",
              "      <th>shift6</th>\n",
              "      <th>shift7</th>\n",
              "      <th>shift8</th>\n",
              "      <th>shift9</th>\n",
              "      <th>shift10</th>\n",
              "      <th>shift11</th>\n",
              "      <th>shift12</th>\n",
              "    </tr>\n",
              "    <tr>\n",
              "      <th>Month</th>\n",
              "      <th></th>\n",
              "      <th></th>\n",
              "      <th></th>\n",
              "      <th></th>\n",
              "      <th></th>\n",
              "      <th></th>\n",
              "      <th></th>\n",
              "      <th></th>\n",
              "      <th></th>\n",
              "      <th></th>\n",
              "      <th></th>\n",
              "      <th></th>\n",
              "      <th></th>\n",
              "    </tr>\n",
              "  </thead>\n",
              "  <tbody>\n",
              "    <tr>\n",
              "      <th>1949-01-01</th>\n",
              "      <td>112.0</td>\n",
              "      <td>NaN</td>\n",
              "      <td>NaN</td>\n",
              "      <td>NaN</td>\n",
              "      <td>NaN</td>\n",
              "      <td>NaN</td>\n",
              "      <td>NaN</td>\n",
              "      <td>NaN</td>\n",
              "      <td>NaN</td>\n",
              "      <td>NaN</td>\n",
              "      <td>NaN</td>\n",
              "      <td>NaN</td>\n",
              "      <td>NaN</td>\n",
              "    </tr>\n",
              "    <tr>\n",
              "      <th>1949-02-01</th>\n",
              "      <td>118.0</td>\n",
              "      <td>112.0</td>\n",
              "      <td>NaN</td>\n",
              "      <td>NaN</td>\n",
              "      <td>NaN</td>\n",
              "      <td>NaN</td>\n",
              "      <td>NaN</td>\n",
              "      <td>NaN</td>\n",
              "      <td>NaN</td>\n",
              "      <td>NaN</td>\n",
              "      <td>NaN</td>\n",
              "      <td>NaN</td>\n",
              "      <td>NaN</td>\n",
              "    </tr>\n",
              "    <tr>\n",
              "      <th>1949-03-01</th>\n",
              "      <td>132.0</td>\n",
              "      <td>118.0</td>\n",
              "      <td>112.0</td>\n",
              "      <td>NaN</td>\n",
              "      <td>NaN</td>\n",
              "      <td>NaN</td>\n",
              "      <td>NaN</td>\n",
              "      <td>NaN</td>\n",
              "      <td>NaN</td>\n",
              "      <td>NaN</td>\n",
              "      <td>NaN</td>\n",
              "      <td>NaN</td>\n",
              "      <td>NaN</td>\n",
              "    </tr>\n",
              "    <tr>\n",
              "      <th>1949-04-01</th>\n",
              "      <td>129.0</td>\n",
              "      <td>132.0</td>\n",
              "      <td>118.0</td>\n",
              "      <td>112.0</td>\n",
              "      <td>NaN</td>\n",
              "      <td>NaN</td>\n",
              "      <td>NaN</td>\n",
              "      <td>NaN</td>\n",
              "      <td>NaN</td>\n",
              "      <td>NaN</td>\n",
              "      <td>NaN</td>\n",
              "      <td>NaN</td>\n",
              "      <td>NaN</td>\n",
              "    </tr>\n",
              "    <tr>\n",
              "      <th>1949-05-01</th>\n",
              "      <td>121.0</td>\n",
              "      <td>129.0</td>\n",
              "      <td>132.0</td>\n",
              "      <td>118.0</td>\n",
              "      <td>112.0</td>\n",
              "      <td>NaN</td>\n",
              "      <td>NaN</td>\n",
              "      <td>NaN</td>\n",
              "      <td>NaN</td>\n",
              "      <td>NaN</td>\n",
              "      <td>NaN</td>\n",
              "      <td>NaN</td>\n",
              "      <td>NaN</td>\n",
              "    </tr>\n",
              "    <tr>\n",
              "      <th>1949-06-01</th>\n",
              "      <td>135.0</td>\n",
              "      <td>121.0</td>\n",
              "      <td>129.0</td>\n",
              "      <td>132.0</td>\n",
              "      <td>118.0</td>\n",
              "      <td>112.0</td>\n",
              "      <td>NaN</td>\n",
              "      <td>NaN</td>\n",
              "      <td>NaN</td>\n",
              "      <td>NaN</td>\n",
              "      <td>NaN</td>\n",
              "      <td>NaN</td>\n",
              "      <td>NaN</td>\n",
              "    </tr>\n",
              "    <tr>\n",
              "      <th>1949-07-01</th>\n",
              "      <td>148.0</td>\n",
              "      <td>135.0</td>\n",
              "      <td>121.0</td>\n",
              "      <td>129.0</td>\n",
              "      <td>132.0</td>\n",
              "      <td>118.0</td>\n",
              "      <td>112.0</td>\n",
              "      <td>NaN</td>\n",
              "      <td>NaN</td>\n",
              "      <td>NaN</td>\n",
              "      <td>NaN</td>\n",
              "      <td>NaN</td>\n",
              "      <td>NaN</td>\n",
              "    </tr>\n",
              "    <tr>\n",
              "      <th>1949-08-01</th>\n",
              "      <td>148.0</td>\n",
              "      <td>148.0</td>\n",
              "      <td>135.0</td>\n",
              "      <td>121.0</td>\n",
              "      <td>129.0</td>\n",
              "      <td>132.0</td>\n",
              "      <td>118.0</td>\n",
              "      <td>112.0</td>\n",
              "      <td>NaN</td>\n",
              "      <td>NaN</td>\n",
              "      <td>NaN</td>\n",
              "      <td>NaN</td>\n",
              "      <td>NaN</td>\n",
              "    </tr>\n",
              "    <tr>\n",
              "      <th>1949-09-01</th>\n",
              "      <td>136.0</td>\n",
              "      <td>148.0</td>\n",
              "      <td>148.0</td>\n",
              "      <td>135.0</td>\n",
              "      <td>121.0</td>\n",
              "      <td>129.0</td>\n",
              "      <td>132.0</td>\n",
              "      <td>118.0</td>\n",
              "      <td>112.0</td>\n",
              "      <td>NaN</td>\n",
              "      <td>NaN</td>\n",
              "      <td>NaN</td>\n",
              "      <td>NaN</td>\n",
              "    </tr>\n",
              "    <tr>\n",
              "      <th>1949-10-01</th>\n",
              "      <td>119.0</td>\n",
              "      <td>136.0</td>\n",
              "      <td>148.0</td>\n",
              "      <td>148.0</td>\n",
              "      <td>135.0</td>\n",
              "      <td>121.0</td>\n",
              "      <td>129.0</td>\n",
              "      <td>132.0</td>\n",
              "      <td>118.0</td>\n",
              "      <td>112.0</td>\n",
              "      <td>NaN</td>\n",
              "      <td>NaN</td>\n",
              "      <td>NaN</td>\n",
              "    </tr>\n",
              "    <tr>\n",
              "      <th>1949-11-01</th>\n",
              "      <td>104.0</td>\n",
              "      <td>119.0</td>\n",
              "      <td>136.0</td>\n",
              "      <td>148.0</td>\n",
              "      <td>148.0</td>\n",
              "      <td>135.0</td>\n",
              "      <td>121.0</td>\n",
              "      <td>129.0</td>\n",
              "      <td>132.0</td>\n",
              "      <td>118.0</td>\n",
              "      <td>112.0</td>\n",
              "      <td>NaN</td>\n",
              "      <td>NaN</td>\n",
              "    </tr>\n",
              "    <tr>\n",
              "      <th>1949-12-01</th>\n",
              "      <td>118.0</td>\n",
              "      <td>104.0</td>\n",
              "      <td>119.0</td>\n",
              "      <td>136.0</td>\n",
              "      <td>148.0</td>\n",
              "      <td>148.0</td>\n",
              "      <td>135.0</td>\n",
              "      <td>121.0</td>\n",
              "      <td>129.0</td>\n",
              "      <td>132.0</td>\n",
              "      <td>118.0</td>\n",
              "      <td>112.0</td>\n",
              "      <td>NaN</td>\n",
              "    </tr>\n",
              "    <tr>\n",
              "      <th>1950-01-01</th>\n",
              "      <td>115.0</td>\n",
              "      <td>118.0</td>\n",
              "      <td>104.0</td>\n",
              "      <td>119.0</td>\n",
              "      <td>136.0</td>\n",
              "      <td>148.0</td>\n",
              "      <td>148.0</td>\n",
              "      <td>135.0</td>\n",
              "      <td>121.0</td>\n",
              "      <td>129.0</td>\n",
              "      <td>132.0</td>\n",
              "      <td>118.0</td>\n",
              "      <td>112.0</td>\n",
              "    </tr>\n",
              "    <tr>\n",
              "      <th>1960-10-01</th>\n",
              "      <td>461.0</td>\n",
              "      <td>508.0</td>\n",
              "      <td>606.0</td>\n",
              "      <td>622.0</td>\n",
              "      <td>535.0</td>\n",
              "      <td>472.0</td>\n",
              "      <td>461.0</td>\n",
              "      <td>419.0</td>\n",
              "      <td>391.0</td>\n",
              "      <td>417.0</td>\n",
              "      <td>405.0</td>\n",
              "      <td>362.0</td>\n",
              "      <td>407.0</td>\n",
              "    </tr>\n",
              "    <tr>\n",
              "      <th>1960-11-01</th>\n",
              "      <td>390.0</td>\n",
              "      <td>461.0</td>\n",
              "      <td>508.0</td>\n",
              "      <td>606.0</td>\n",
              "      <td>622.0</td>\n",
              "      <td>535.0</td>\n",
              "      <td>472.0</td>\n",
              "      <td>461.0</td>\n",
              "      <td>419.0</td>\n",
              "      <td>391.0</td>\n",
              "      <td>417.0</td>\n",
              "      <td>405.0</td>\n",
              "      <td>362.0</td>\n",
              "    </tr>\n",
              "    <tr>\n",
              "      <th>1960-12-01</th>\n",
              "      <td>432.0</td>\n",
              "      <td>390.0</td>\n",
              "      <td>461.0</td>\n",
              "      <td>508.0</td>\n",
              "      <td>606.0</td>\n",
              "      <td>622.0</td>\n",
              "      <td>535.0</td>\n",
              "      <td>472.0</td>\n",
              "      <td>461.0</td>\n",
              "      <td>419.0</td>\n",
              "      <td>391.0</td>\n",
              "      <td>417.0</td>\n",
              "      <td>405.0</td>\n",
              "    </tr>\n",
              "  </tbody>\n",
              "</table>\n",
              "</div>"
            ],
            "text/plain": [
              "            Passengers  shift1  shift2  ...  shift10  shift11  shift12\n",
              "Month                                   ...                           \n",
              "1949-01-01       112.0     NaN     NaN  ...      NaN      NaN      NaN\n",
              "1949-02-01       118.0   112.0     NaN  ...      NaN      NaN      NaN\n",
              "1949-03-01       132.0   118.0   112.0  ...      NaN      NaN      NaN\n",
              "1949-04-01       129.0   132.0   118.0  ...      NaN      NaN      NaN\n",
              "1949-05-01       121.0   129.0   132.0  ...      NaN      NaN      NaN\n",
              "1949-06-01       135.0   121.0   129.0  ...      NaN      NaN      NaN\n",
              "1949-07-01       148.0   135.0   121.0  ...      NaN      NaN      NaN\n",
              "1949-08-01       148.0   148.0   135.0  ...      NaN      NaN      NaN\n",
              "1949-09-01       136.0   148.0   148.0  ...      NaN      NaN      NaN\n",
              "1949-10-01       119.0   136.0   148.0  ...      NaN      NaN      NaN\n",
              "1949-11-01       104.0   119.0   136.0  ...    112.0      NaN      NaN\n",
              "1949-12-01       118.0   104.0   119.0  ...    118.0    112.0      NaN\n",
              "1950-01-01       115.0   118.0   104.0  ...    132.0    118.0    112.0\n",
              "1960-10-01       461.0   508.0   606.0  ...    405.0    362.0    407.0\n",
              "1960-11-01       390.0   461.0   508.0  ...    417.0    405.0    362.0\n",
              "1960-12-01       432.0   390.0   461.0  ...    391.0    417.0    405.0\n",
              "\n",
              "[16 rows x 13 columns]"
            ]
          },
          "metadata": {
            "tags": []
          },
          "execution_count": 5
        }
      ]
    },
    {
      "cell_type": "markdown",
      "metadata": {
        "id": "FPsCArpqbzqE"
      },
      "source": [
        "## 1回差分の作成"
      ]
    },
    {
      "cell_type": "code",
      "metadata": {
        "colab": {
          "base_uri": "https://localhost:8080/",
          "height": 235
        },
        "id": "0cZym0VqbmlV",
        "outputId": "2b311149-7a82-458f-a606-427a63a3ea8c"
      },
      "source": [
        "df['deriv1'] = df['shift1'].diff(1)\n",
        "df[['Passengers', 'deriv1']].head()"
      ],
      "execution_count": 6,
      "outputs": [
        {
          "output_type": "execute_result",
          "data": {
            "text/html": [
              "<div>\n",
              "<style scoped>\n",
              "    .dataframe tbody tr th:only-of-type {\n",
              "        vertical-align: middle;\n",
              "    }\n",
              "\n",
              "    .dataframe tbody tr th {\n",
              "        vertical-align: top;\n",
              "    }\n",
              "\n",
              "    .dataframe thead th {\n",
              "        text-align: right;\n",
              "    }\n",
              "</style>\n",
              "<table border=\"1\" class=\"dataframe\">\n",
              "  <thead>\n",
              "    <tr style=\"text-align: right;\">\n",
              "      <th></th>\n",
              "      <th>Passengers</th>\n",
              "      <th>deriv1</th>\n",
              "    </tr>\n",
              "    <tr>\n",
              "      <th>Month</th>\n",
              "      <th></th>\n",
              "      <th></th>\n",
              "    </tr>\n",
              "  </thead>\n",
              "  <tbody>\n",
              "    <tr>\n",
              "      <th>1949-01-01</th>\n",
              "      <td>112.0</td>\n",
              "      <td>NaN</td>\n",
              "    </tr>\n",
              "    <tr>\n",
              "      <th>1949-02-01</th>\n",
              "      <td>118.0</td>\n",
              "      <td>NaN</td>\n",
              "    </tr>\n",
              "    <tr>\n",
              "      <th>1949-03-01</th>\n",
              "      <td>132.0</td>\n",
              "      <td>6.0</td>\n",
              "    </tr>\n",
              "    <tr>\n",
              "      <th>1949-04-01</th>\n",
              "      <td>129.0</td>\n",
              "      <td>14.0</td>\n",
              "    </tr>\n",
              "    <tr>\n",
              "      <th>1949-05-01</th>\n",
              "      <td>121.0</td>\n",
              "      <td>-3.0</td>\n",
              "    </tr>\n",
              "  </tbody>\n",
              "</table>\n",
              "</div>"
            ],
            "text/plain": [
              "            Passengers  deriv1\n",
              "Month                         \n",
              "1949-01-01       112.0     NaN\n",
              "1949-02-01       118.0     NaN\n",
              "1949-03-01       132.0     6.0\n",
              "1949-04-01       129.0    14.0\n",
              "1949-05-01       121.0    -3.0"
            ]
          },
          "metadata": {
            "tags": []
          },
          "execution_count": 6
        }
      ]
    },
    {
      "cell_type": "markdown",
      "metadata": {
        "id": "ej82m-mYcEzA"
      },
      "source": [
        "## 2回差分の作成"
      ]
    },
    {
      "cell_type": "code",
      "metadata": {
        "colab": {
          "base_uri": "https://localhost:8080/",
          "height": 235
        },
        "id": "VA9kkFAIcBGr",
        "outputId": "9ee5c358-2d28-479d-c285-0c8a6d42643e"
      },
      "source": [
        "df['deriv2'] = df['shift1'].diff(1).diff(1)\n",
        "df[['Passengers', 'deriv2']].head()"
      ],
      "execution_count": 7,
      "outputs": [
        {
          "output_type": "execute_result",
          "data": {
            "text/html": [
              "<div>\n",
              "<style scoped>\n",
              "    .dataframe tbody tr th:only-of-type {\n",
              "        vertical-align: middle;\n",
              "    }\n",
              "\n",
              "    .dataframe tbody tr th {\n",
              "        vertical-align: top;\n",
              "    }\n",
              "\n",
              "    .dataframe thead th {\n",
              "        text-align: right;\n",
              "    }\n",
              "</style>\n",
              "<table border=\"1\" class=\"dataframe\">\n",
              "  <thead>\n",
              "    <tr style=\"text-align: right;\">\n",
              "      <th></th>\n",
              "      <th>Passengers</th>\n",
              "      <th>deriv2</th>\n",
              "    </tr>\n",
              "    <tr>\n",
              "      <th>Month</th>\n",
              "      <th></th>\n",
              "      <th></th>\n",
              "    </tr>\n",
              "  </thead>\n",
              "  <tbody>\n",
              "    <tr>\n",
              "      <th>1949-01-01</th>\n",
              "      <td>112.0</td>\n",
              "      <td>NaN</td>\n",
              "    </tr>\n",
              "    <tr>\n",
              "      <th>1949-02-01</th>\n",
              "      <td>118.0</td>\n",
              "      <td>NaN</td>\n",
              "    </tr>\n",
              "    <tr>\n",
              "      <th>1949-03-01</th>\n",
              "      <td>132.0</td>\n",
              "      <td>NaN</td>\n",
              "    </tr>\n",
              "    <tr>\n",
              "      <th>1949-04-01</th>\n",
              "      <td>129.0</td>\n",
              "      <td>8.0</td>\n",
              "    </tr>\n",
              "    <tr>\n",
              "      <th>1949-05-01</th>\n",
              "      <td>121.0</td>\n",
              "      <td>-17.0</td>\n",
              "    </tr>\n",
              "  </tbody>\n",
              "</table>\n",
              "</div>"
            ],
            "text/plain": [
              "            Passengers  deriv2\n",
              "Month                         \n",
              "1949-01-01       112.0     NaN\n",
              "1949-02-01       118.0     NaN\n",
              "1949-03-01       132.0     NaN\n",
              "1949-04-01       129.0     8.0\n",
              "1949-05-01       121.0   -17.0"
            ]
          },
          "metadata": {
            "tags": []
          },
          "execution_count": 7
        }
      ]
    },
    {
      "cell_type": "markdown",
      "metadata": {
        "id": "QPL8agIQcMir"
      },
      "source": [
        "## 基礎統計量の作成"
      ]
    },
    {
      "cell_type": "code",
      "metadata": {
        "colab": {
          "base_uri": "https://localhost:8080/",
          "height": 452
        },
        "id": "cMzVYOs8cJqO",
        "outputId": "7b77d104-1476-4f90-b21d-44e12bf6d595"
      },
      "source": [
        "df['mean'] = df['shift1'].rolling(12).mean()\n",
        "df['median'] = df['shift1'].rolling(12).median()\n",
        "df['max'] = df['shift1'].rolling(12).max()\n",
        "df['min'] = df['shift1'].rolling(12).min()\n",
        "df[['Passengers', 'mean', 'median', 'max', 'min']][12:24]"
      ],
      "execution_count": 8,
      "outputs": [
        {
          "output_type": "execute_result",
          "data": {
            "text/html": [
              "<div>\n",
              "<style scoped>\n",
              "    .dataframe tbody tr th:only-of-type {\n",
              "        vertical-align: middle;\n",
              "    }\n",
              "\n",
              "    .dataframe tbody tr th {\n",
              "        vertical-align: top;\n",
              "    }\n",
              "\n",
              "    .dataframe thead th {\n",
              "        text-align: right;\n",
              "    }\n",
              "</style>\n",
              "<table border=\"1\" class=\"dataframe\">\n",
              "  <thead>\n",
              "    <tr style=\"text-align: right;\">\n",
              "      <th></th>\n",
              "      <th>Passengers</th>\n",
              "      <th>mean</th>\n",
              "      <th>median</th>\n",
              "      <th>max</th>\n",
              "      <th>min</th>\n",
              "    </tr>\n",
              "    <tr>\n",
              "      <th>Month</th>\n",
              "      <th></th>\n",
              "      <th></th>\n",
              "      <th></th>\n",
              "      <th></th>\n",
              "      <th></th>\n",
              "    </tr>\n",
              "  </thead>\n",
              "  <tbody>\n",
              "    <tr>\n",
              "      <th>1950-01-01</th>\n",
              "      <td>115.0</td>\n",
              "      <td>126.666667</td>\n",
              "      <td>125.0</td>\n",
              "      <td>148.0</td>\n",
              "      <td>104.0</td>\n",
              "    </tr>\n",
              "    <tr>\n",
              "      <th>1950-02-01</th>\n",
              "      <td>126.0</td>\n",
              "      <td>126.916667</td>\n",
              "      <td>125.0</td>\n",
              "      <td>148.0</td>\n",
              "      <td>104.0</td>\n",
              "    </tr>\n",
              "    <tr>\n",
              "      <th>1950-03-01</th>\n",
              "      <td>141.0</td>\n",
              "      <td>127.583333</td>\n",
              "      <td>127.5</td>\n",
              "      <td>148.0</td>\n",
              "      <td>104.0</td>\n",
              "    </tr>\n",
              "    <tr>\n",
              "      <th>1950-04-01</th>\n",
              "      <td>135.0</td>\n",
              "      <td>128.333333</td>\n",
              "      <td>127.5</td>\n",
              "      <td>148.0</td>\n",
              "      <td>104.0</td>\n",
              "    </tr>\n",
              "    <tr>\n",
              "      <th>1950-05-01</th>\n",
              "      <td>125.0</td>\n",
              "      <td>128.833333</td>\n",
              "      <td>130.5</td>\n",
              "      <td>148.0</td>\n",
              "      <td>104.0</td>\n",
              "    </tr>\n",
              "    <tr>\n",
              "      <th>1950-06-01</th>\n",
              "      <td>149.0</td>\n",
              "      <td>129.166667</td>\n",
              "      <td>130.5</td>\n",
              "      <td>148.0</td>\n",
              "      <td>104.0</td>\n",
              "    </tr>\n",
              "    <tr>\n",
              "      <th>1950-07-01</th>\n",
              "      <td>170.0</td>\n",
              "      <td>130.333333</td>\n",
              "      <td>130.5</td>\n",
              "      <td>149.0</td>\n",
              "      <td>104.0</td>\n",
              "    </tr>\n",
              "    <tr>\n",
              "      <th>1950-08-01</th>\n",
              "      <td>170.0</td>\n",
              "      <td>132.166667</td>\n",
              "      <td>130.5</td>\n",
              "      <td>170.0</td>\n",
              "      <td>104.0</td>\n",
              "    </tr>\n",
              "    <tr>\n",
              "      <th>1950-09-01</th>\n",
              "      <td>158.0</td>\n",
              "      <td>134.000000</td>\n",
              "      <td>130.5</td>\n",
              "      <td>170.0</td>\n",
              "      <td>104.0</td>\n",
              "    </tr>\n",
              "    <tr>\n",
              "      <th>1950-10-01</th>\n",
              "      <td>133.0</td>\n",
              "      <td>135.833333</td>\n",
              "      <td>130.5</td>\n",
              "      <td>170.0</td>\n",
              "      <td>104.0</td>\n",
              "    </tr>\n",
              "    <tr>\n",
              "      <th>1950-11-01</th>\n",
              "      <td>114.0</td>\n",
              "      <td>137.000000</td>\n",
              "      <td>134.0</td>\n",
              "      <td>170.0</td>\n",
              "      <td>104.0</td>\n",
              "    </tr>\n",
              "    <tr>\n",
              "      <th>1950-12-01</th>\n",
              "      <td>140.0</td>\n",
              "      <td>137.833333</td>\n",
              "      <td>134.0</td>\n",
              "      <td>170.0</td>\n",
              "      <td>114.0</td>\n",
              "    </tr>\n",
              "  </tbody>\n",
              "</table>\n",
              "</div>"
            ],
            "text/plain": [
              "            Passengers        mean  median    max    min\n",
              "Month                                                   \n",
              "1950-01-01       115.0  126.666667   125.0  148.0  104.0\n",
              "1950-02-01       126.0  126.916667   125.0  148.0  104.0\n",
              "1950-03-01       141.0  127.583333   127.5  148.0  104.0\n",
              "1950-04-01       135.0  128.333333   127.5  148.0  104.0\n",
              "1950-05-01       125.0  128.833333   130.5  148.0  104.0\n",
              "1950-06-01       149.0  129.166667   130.5  148.0  104.0\n",
              "1950-07-01       170.0  130.333333   130.5  149.0  104.0\n",
              "1950-08-01       170.0  132.166667   130.5  170.0  104.0\n",
              "1950-09-01       158.0  134.000000   130.5  170.0  104.0\n",
              "1950-10-01       133.0  135.833333   130.5  170.0  104.0\n",
              "1950-11-01       114.0  137.000000   134.0  170.0  104.0\n",
              "1950-12-01       140.0  137.833333   134.0  170.0  114.0"
            ]
          },
          "metadata": {
            "tags": []
          },
          "execution_count": 8
        }
      ]
    },
    {
      "cell_type": "markdown",
      "metadata": {
        "id": "zIlv1DMcdMtB"
      },
      "source": [
        "## 欠損値データの削除"
      ]
    },
    {
      "cell_type": "code",
      "metadata": {
        "colab": {
          "base_uri": "https://localhost:8080/",
          "height": 340
        },
        "id": "sNiw4-t5cghe",
        "outputId": "c65c9552-e4f9-4430-ed93-a533370fadde"
      },
      "source": [
        "df = df.dropna()\n",
        "df.head()"
      ],
      "execution_count": 9,
      "outputs": [
        {
          "output_type": "execute_result",
          "data": {
            "text/html": [
              "<div>\n",
              "<style scoped>\n",
              "    .dataframe tbody tr th:only-of-type {\n",
              "        vertical-align: middle;\n",
              "    }\n",
              "\n",
              "    .dataframe tbody tr th {\n",
              "        vertical-align: top;\n",
              "    }\n",
              "\n",
              "    .dataframe thead th {\n",
              "        text-align: right;\n",
              "    }\n",
              "</style>\n",
              "<table border=\"1\" class=\"dataframe\">\n",
              "  <thead>\n",
              "    <tr style=\"text-align: right;\">\n",
              "      <th></th>\n",
              "      <th>Passengers</th>\n",
              "      <th>shift1</th>\n",
              "      <th>shift2</th>\n",
              "      <th>shift3</th>\n",
              "      <th>shift4</th>\n",
              "      <th>shift5</th>\n",
              "      <th>shift6</th>\n",
              "      <th>shift7</th>\n",
              "      <th>shift8</th>\n",
              "      <th>shift9</th>\n",
              "      <th>shift10</th>\n",
              "      <th>shift11</th>\n",
              "      <th>shift12</th>\n",
              "      <th>deriv1</th>\n",
              "      <th>deriv2</th>\n",
              "      <th>mean</th>\n",
              "      <th>median</th>\n",
              "      <th>max</th>\n",
              "      <th>min</th>\n",
              "    </tr>\n",
              "    <tr>\n",
              "      <th>Month</th>\n",
              "      <th></th>\n",
              "      <th></th>\n",
              "      <th></th>\n",
              "      <th></th>\n",
              "      <th></th>\n",
              "      <th></th>\n",
              "      <th></th>\n",
              "      <th></th>\n",
              "      <th></th>\n",
              "      <th></th>\n",
              "      <th></th>\n",
              "      <th></th>\n",
              "      <th></th>\n",
              "      <th></th>\n",
              "      <th></th>\n",
              "      <th></th>\n",
              "      <th></th>\n",
              "      <th></th>\n",
              "      <th></th>\n",
              "    </tr>\n",
              "  </thead>\n",
              "  <tbody>\n",
              "    <tr>\n",
              "      <th>1950-01-01</th>\n",
              "      <td>115.0</td>\n",
              "      <td>118.0</td>\n",
              "      <td>104.0</td>\n",
              "      <td>119.0</td>\n",
              "      <td>136.0</td>\n",
              "      <td>148.0</td>\n",
              "      <td>148.0</td>\n",
              "      <td>135.0</td>\n",
              "      <td>121.0</td>\n",
              "      <td>129.0</td>\n",
              "      <td>132.0</td>\n",
              "      <td>118.0</td>\n",
              "      <td>112.0</td>\n",
              "      <td>14.0</td>\n",
              "      <td>29.0</td>\n",
              "      <td>126.666667</td>\n",
              "      <td>125.0</td>\n",
              "      <td>148.0</td>\n",
              "      <td>104.0</td>\n",
              "    </tr>\n",
              "    <tr>\n",
              "      <th>1950-02-01</th>\n",
              "      <td>126.0</td>\n",
              "      <td>115.0</td>\n",
              "      <td>118.0</td>\n",
              "      <td>104.0</td>\n",
              "      <td>119.0</td>\n",
              "      <td>136.0</td>\n",
              "      <td>148.0</td>\n",
              "      <td>148.0</td>\n",
              "      <td>135.0</td>\n",
              "      <td>121.0</td>\n",
              "      <td>129.0</td>\n",
              "      <td>132.0</td>\n",
              "      <td>118.0</td>\n",
              "      <td>-3.0</td>\n",
              "      <td>-17.0</td>\n",
              "      <td>126.916667</td>\n",
              "      <td>125.0</td>\n",
              "      <td>148.0</td>\n",
              "      <td>104.0</td>\n",
              "    </tr>\n",
              "    <tr>\n",
              "      <th>1950-03-01</th>\n",
              "      <td>141.0</td>\n",
              "      <td>126.0</td>\n",
              "      <td>115.0</td>\n",
              "      <td>118.0</td>\n",
              "      <td>104.0</td>\n",
              "      <td>119.0</td>\n",
              "      <td>136.0</td>\n",
              "      <td>148.0</td>\n",
              "      <td>148.0</td>\n",
              "      <td>135.0</td>\n",
              "      <td>121.0</td>\n",
              "      <td>129.0</td>\n",
              "      <td>132.0</td>\n",
              "      <td>11.0</td>\n",
              "      <td>14.0</td>\n",
              "      <td>127.583333</td>\n",
              "      <td>127.5</td>\n",
              "      <td>148.0</td>\n",
              "      <td>104.0</td>\n",
              "    </tr>\n",
              "    <tr>\n",
              "      <th>1950-04-01</th>\n",
              "      <td>135.0</td>\n",
              "      <td>141.0</td>\n",
              "      <td>126.0</td>\n",
              "      <td>115.0</td>\n",
              "      <td>118.0</td>\n",
              "      <td>104.0</td>\n",
              "      <td>119.0</td>\n",
              "      <td>136.0</td>\n",
              "      <td>148.0</td>\n",
              "      <td>148.0</td>\n",
              "      <td>135.0</td>\n",
              "      <td>121.0</td>\n",
              "      <td>129.0</td>\n",
              "      <td>15.0</td>\n",
              "      <td>4.0</td>\n",
              "      <td>128.333333</td>\n",
              "      <td>127.5</td>\n",
              "      <td>148.0</td>\n",
              "      <td>104.0</td>\n",
              "    </tr>\n",
              "    <tr>\n",
              "      <th>1950-05-01</th>\n",
              "      <td>125.0</td>\n",
              "      <td>135.0</td>\n",
              "      <td>141.0</td>\n",
              "      <td>126.0</td>\n",
              "      <td>115.0</td>\n",
              "      <td>118.0</td>\n",
              "      <td>104.0</td>\n",
              "      <td>119.0</td>\n",
              "      <td>136.0</td>\n",
              "      <td>148.0</td>\n",
              "      <td>148.0</td>\n",
              "      <td>135.0</td>\n",
              "      <td>121.0</td>\n",
              "      <td>-6.0</td>\n",
              "      <td>-21.0</td>\n",
              "      <td>128.833333</td>\n",
              "      <td>130.5</td>\n",
              "      <td>148.0</td>\n",
              "      <td>104.0</td>\n",
              "    </tr>\n",
              "  </tbody>\n",
              "</table>\n",
              "</div>"
            ],
            "text/plain": [
              "            Passengers  shift1  shift2  ...  median    max    min\n",
              "Month                                   ...                      \n",
              "1950-01-01       115.0   118.0   104.0  ...   125.0  148.0  104.0\n",
              "1950-02-01       126.0   115.0   118.0  ...   125.0  148.0  104.0\n",
              "1950-03-01       141.0   126.0   115.0  ...   127.5  148.0  104.0\n",
              "1950-04-01       135.0   141.0   126.0  ...   127.5  148.0  104.0\n",
              "1950-05-01       125.0   135.0   141.0  ...   130.5  148.0  104.0\n",
              "\n",
              "[5 rows x 19 columns]"
            ]
          },
          "metadata": {
            "tags": []
          },
          "execution_count": 9
        }
      ]
    },
    {
      "cell_type": "markdown",
      "metadata": {
        "id": "VM870zMRdV3M"
      },
      "source": [
        "## モデルの学習"
      ]
    },
    {
      "cell_type": "code",
      "metadata": {
        "id": "lfsYUPKxdRN3"
      },
      "source": [
        "x = df.drop('Passengers', axis=1)\n",
        "y = df['Passengers']\n",
        "\n",
        "# 学習データと評価データを作成\n",
        "x_train, x_test, y_train, y_test = train_test_split(x, y, test_size=0.2, random_state=1)\n",
        "\n",
        "#データを標準化\n",
        "sc = StandardScaler()\n",
        "sc.fit(x_train) #学習用データで標準化\n",
        "x_train_std = sc.transform(x_train)\n",
        "x_test_std = sc.transform(x_test)"
      ],
      "execution_count": 10,
      "outputs": []
    },
    {
      "cell_type": "code",
      "metadata": {
        "id": "uXUkhv6gd2aB"
      },
      "source": [
        "# モデルの学習\n",
        "GBDT = GradientBoostingRegressor()\n",
        "GBDT.fit(x_train_std, y_train)\n",
        "\n",
        "# 予測　\n",
        "y_pred = GBDT.predict(x_test_std)"
      ],
      "execution_count": 11,
      "outputs": []
    },
    {
      "cell_type": "code",
      "metadata": {
        "colab": {
          "base_uri": "https://localhost:8080/",
          "height": 337
        },
        "id": "TwwXZPb0eDn_",
        "outputId": "babadfd5-a62f-4444-86d7-3e9a074046a0"
      },
      "source": [
        "y_ = np.concatenate([np.array([None for i in range(len(y_train))]), y_pred])\n",
        "y_ = pd.DataFrame(y_, index=df.index)\n",
        "\n",
        "plt.figure(figsize=(10,5))\n",
        "plt.plot(y, label='original')\n",
        "plt.plot(y_, '--', label='predict')\n",
        "plt.legend()"
      ],
      "execution_count": 12,
      "outputs": [
        {
          "output_type": "execute_result",
          "data": {
            "text/plain": [
              "<matplotlib.legend.Legend at 0x7fc1af678668>"
            ]
          },
          "metadata": {
            "tags": []
          },
          "execution_count": 12
        },
        {
          "output_type": "display_data",
          "data": {
            "image/png": "[encoded data removed]",
            "text/plain": [
              "<Figure size 720x360 with 1 Axes>"
            ]
          },
          "metadata": {
            "tags": [],
            "needs_background": "light"
          }
        }
      ]
    }
  ]
}